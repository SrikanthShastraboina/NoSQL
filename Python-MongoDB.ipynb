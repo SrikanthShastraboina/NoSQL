{
 "cells": [
  {
   "cell_type": "code",
   "execution_count": 2,
   "id": "5a8dd7c1",
   "metadata": {},
   "outputs": [],
   "source": [
    "import pymongo\n",
    "\n",
    "client = pymongo.MongoClient('mongodb://localhost:27017')\n",
    "\n",
    "mydb = client['Employee']\n",
    "\n",
    "empinfo = mydb.employeeinformation"
   ]
  },
  {
   "cell_type": "code",
   "execution_count": 3,
   "id": "c676e03e",
   "metadata": {},
   "outputs": [
    {
     "data": {
      "text/plain": [
       "InsertOneResult(ObjectId('661c35f1398f60862913e787'), acknowledged=True)"
      ]
     },
     "execution_count": 3,
     "metadata": {},
     "output_type": "execute_result"
    }
   ],
   "source": [
    "record = {\n",
    "    'firstname' : 'Srikanth',\n",
    "    'lastname' : 'Shastraboina',\n",
    "    'department' : 'Analytics',\n",
    "    'qualification' : 'BE',\n",
    "    'age': 28\n",
    "}\n",
    "\n",
    "\n",
    "empinfo.insert_one(record)"
   ]
  },
  {
   "cell_type": "code",
   "execution_count": 4,
   "id": "79521298",
   "metadata": {},
   "outputs": [],
   "source": [
    "records=[{\n",
    "        'firstname':'John',\n",
    "        'lastname':'Doe',\n",
    "        'department':'Analytics',\n",
    "        'qualification':'statistics',\n",
    "        'age':35\n",
    "        \n",
    "        },\n",
    "         {\n",
    "        'firstname':'John ',\n",
    "        'lastname':'Smith',\n",
    "        'department':'Analytics',\n",
    "        'qualification':'masters',\n",
    "        'age':30\n",
    "        \n",
    "        },\n",
    "        {\n",
    "        'firstname':'Manish',\n",
    "        'lastname':'Sen',\n",
    "        'department':'Analytics',\n",
    "        'qualification':'phd',\n",
    "        'age':34\n",
    "        \n",
    "        },\n",
    "        {\n",
    "        'firstname':'Ram',\n",
    "        'lastname':'Singh',\n",
    "        'department':'Analytics',\n",
    "        'qualification':'master',\n",
    "        'age':32\n",
    "        \n",
    "        }]"
   ]
  },
  {
   "cell_type": "code",
   "execution_count": 5,
   "id": "6e3112a5",
   "metadata": {},
   "outputs": [
    {
     "data": {
      "text/plain": [
       "InsertManyResult([ObjectId('661c3729398f60862913e788'), ObjectId('661c3729398f60862913e789'), ObjectId('661c3729398f60862913e78a'), ObjectId('661c3729398f60862913e78b')], acknowledged=True)"
      ]
     },
     "execution_count": 5,
     "metadata": {},
     "output_type": "execute_result"
    }
   ],
   "source": [
    "empinfo.insert_many(records)"
   ]
  },
  {
   "cell_type": "code",
   "execution_count": 6,
   "id": "945f87b6",
   "metadata": {},
   "outputs": [
    {
     "data": {
      "text/plain": [
       "{'_id': ObjectId('661c35f1398f60862913e787'),\n",
       " 'firstname': 'Srikanth',\n",
       " 'lastname': 'Shastraboina',\n",
       " 'department': 'Analytics',\n",
       " 'qualification': 'BE',\n",
       " 'age': 28}"
      ]
     },
     "execution_count": 6,
     "metadata": {},
     "output_type": "execute_result"
    }
   ],
   "source": [
    "# Simple query\n",
    "empinfo.find_one()"
   ]
  },
  {
   "cell_type": "code",
   "execution_count": 8,
   "id": "66a85703",
   "metadata": {},
   "outputs": [
    {
     "name": "stdout",
     "output_type": "stream",
     "text": [
      "{'_id': ObjectId('661c35f1398f60862913e787'), 'firstname': 'Srikanth', 'lastname': 'Shastraboina', 'department': 'Analytics', 'qualification': 'BE', 'age': 28}\n",
      "{'_id': ObjectId('661c3729398f60862913e788'), 'firstname': 'John', 'lastname': 'Doe', 'department': 'Analytics', 'qualification': 'statistics', 'age': 35}\n",
      "{'_id': ObjectId('661c3729398f60862913e789'), 'firstname': 'John ', 'lastname': 'Smith', 'department': 'Analytics', 'qualification': 'masters', 'age': 30}\n",
      "{'_id': ObjectId('661c3729398f60862913e78a'), 'firstname': 'Manish', 'lastname': 'Sen', 'department': 'Analytics', 'qualification': 'phd', 'age': 34}\n",
      "{'_id': ObjectId('661c3729398f60862913e78b'), 'firstname': 'Ram', 'lastname': 'Singh', 'department': 'Analytics', 'qualification': 'master', 'age': 32}\n"
     ]
    }
   ],
   "source": [
    "# quiry all the documents from a collection\n",
    "# empinfo.find() # we need to use a for loop\n",
    "\n",
    "for record in empinfo.find({}):\n",
    "    print(record)\n"
   ]
  },
  {
   "cell_type": "code",
   "execution_count": 10,
   "id": "062d5f24",
   "metadata": {},
   "outputs": [
    {
     "data": {
      "text/plain": [
       "{'_id': ObjectId('661c35f1398f60862913e787'),\n",
       " 'firstname': 'Srikanth',\n",
       " 'lastname': 'Shastraboina',\n",
       " 'department': 'Analytics',\n",
       " 'qualification': 'BE',\n",
       " 'age': 28}"
      ]
     },
     "execution_count": 10,
     "metadata": {},
     "output_type": "execute_result"
    }
   ],
   "source": [
    "# Query json documents based on equality conditions\n",
    "\n",
    "empinfo.find_one({'firstname': 'Srikanth'}) # gives only one document"
   ]
  },
  {
   "cell_type": "code",
   "execution_count": 12,
   "id": "bd4fb5b5",
   "metadata": {},
   "outputs": [
    {
     "name": "stdout",
     "output_type": "stream",
     "text": [
      "{'_id': ObjectId('661c35f1398f60862913e787'), 'firstname': 'Srikanth', 'lastname': 'Shastraboina', 'department': 'Analytics', 'qualification': 'BE', 'age': 28}\n"
     ]
    }
   ],
   "source": [
    "for record in empinfo.find({'firstname': 'Srikanth'}):\n",
    "    print(record)"
   ]
  },
  {
   "cell_type": "code",
   "execution_count": 27,
   "id": "4f9a4767",
   "metadata": {},
   "outputs": [
    {
     "name": "stdout",
     "output_type": "stream",
     "text": [
      "{'_id': ObjectId('661c35f1398f60862913e787'), 'firstname': 'Srikanth', 'lastname': 'Shastraboina', 'department': 'Analytics', 'qualification': 'BE', 'age': 28}\n",
      "{'_id': ObjectId('661c3729398f60862913e78a'), 'firstname': 'Manish', 'lastname': 'Sen', 'department': 'Analytics', 'qualification': 'phd', 'age': 34}\n"
     ]
    }
   ],
   "source": [
    "# Query using operators like $in, $nin, $or, $gt, $gte, $lt, $lte, $all\n",
    "\n",
    "# '$or' operator\n",
    "for record in empinfo.find({'$or': [{'qualification': 'BE'}, {'qualification': 'phd'}]}):\n",
    "    print(record)\n",
    "\n",
    "\n"
   ]
  },
  {
   "cell_type": "code",
   "execution_count": 28,
   "id": "503b95de",
   "metadata": {},
   "outputs": [
    {
     "name": "stdout",
     "output_type": "stream",
     "text": [
      "{'_id': ObjectId('661c35f1398f60862913e787'), 'firstname': 'Srikanth', 'lastname': 'Shastraboina', 'department': 'Analytics', 'qualification': 'BE', 'age': 28}\n",
      "{'_id': ObjectId('661c3729398f60862913e788'), 'firstname': 'John', 'lastname': 'Doe', 'department': 'Analytics', 'qualification': 'statistics', 'age': 35}\n",
      "{'_id': ObjectId('661c3729398f60862913e789'), 'firstname': 'John ', 'lastname': 'Smith', 'department': 'Analytics', 'qualification': 'masters', 'age': 30}\n"
     ]
    }
   ],
   "source": [
    "# '$in' operator\n",
    "\n",
    "for record in empinfo.find({'age': {'$in':[28,35,30]}}):\n",
    "    print(record)"
   ]
  },
  {
   "cell_type": "code",
   "execution_count": 31,
   "id": "1e7fd94c",
   "metadata": {},
   "outputs": [
    {
     "name": "stdout",
     "output_type": "stream",
     "text": [
      "{'_id': ObjectId('661c3729398f60862913e78a'), 'firstname': 'Manish', 'lastname': 'Sen', 'department': 'Analytics', 'qualification': 'phd', 'age': 34}\n"
     ]
    }
   ],
   "source": [
    "# $and operator.\n",
    "for record in empinfo.find({'$and': [{'qualification': 'phd'}, {'age': 34}]}):\n",
    "    print(record)"
   ]
  },
  {
   "cell_type": "code",
   "execution_count": 30,
   "id": "9c0b4822",
   "metadata": {},
   "outputs": [
    {
     "name": "stdout",
     "output_type": "stream",
     "text": [
      "{'_id': ObjectId('661c3729398f60862913e78b'), 'firstname': 'Ram', 'lastname': 'Singh', 'department': 'Analytics', 'qualification': 'master', 'age': 32}\n"
     ]
    }
   ],
   "source": [
    "# $and operator. we can use comma for And operator\n",
    "for record in empinfo.find({'qualification': 'master', 'age': {'$lt':35}}):\n",
    "    print(record)\n",
    "                       "
   ]
  },
  {
   "cell_type": "code",
   "execution_count": 32,
   "id": "8810a5ee",
   "metadata": {},
   "outputs": [],
   "source": [
    "inventory = mydb.inventory"
   ]
  },
  {
   "cell_type": "code",
   "execution_count": 35,
   "id": "4ddff0af",
   "metadata": {},
   "outputs": [
    {
     "data": {
      "text/plain": [
       "InsertManyResult([ObjectId('661c3fce398f60862913e78c'), ObjectId('661c3fce398f60862913e78d'), ObjectId('661c3fce398f60862913e78e'), ObjectId('661c3fce398f60862913e78f'), ObjectId('661c3fce398f60862913e790')], acknowledged=True)"
      ]
     },
     "execution_count": 35,
     "metadata": {},
     "output_type": "execute_result"
    }
   ],
   "source": [
    "inventory.insert_many([\n",
    "   { 'item': \"journal\", 'qty': 25, 'size': { 'h': 14, 'w': 21,'uom': \"cm\" }, 'status': \"A\" },\n",
    "   { 'item': \"notebook\", 'qty': 50,'size': { 'h': 8.5, 'w': 11,'uom': \"in\" },'status': \"A\" },\n",
    "   { 'item': \"paper\", 'qty': 100, 'size': { 'h': 8.5, 'w': 11,'uom': \"in\" },'status': \"D\" },\n",
    "   { 'item': \"planner\", 'qty': 75, 'size': { 'h': 22.85,'w': 30,'uom': \"cm\" },'status': \"D\" },\n",
    "   { 'item': \"postcard\", 'qty': 45, 'size': { 'h': 10, 'w': 15.25,'uom': \"cm\" },'status': \"A\" }\n",
    "])"
   ]
  },
  {
   "cell_type": "code",
   "execution_count": 36,
   "id": "9681b85f",
   "metadata": {
    "scrolled": true
   },
   "outputs": [
    {
     "name": "stdout",
     "output_type": "stream",
     "text": [
      "{'_id': ObjectId('661c3fce398f60862913e78c'), 'item': 'journal', 'qty': 25, 'size': {'h': 14, 'w': 21, 'uom': 'cm'}, 'status': 'A'}\n"
     ]
    }
   ],
   "source": [
    "for records in inventory.find({'size': { 'h': 14, 'w': 21,'uom': \"cm\"}}):\n",
    "    print(records)"
   ]
  },
  {
   "cell_type": "code",
   "execution_count": 38,
   "id": "66a0c303",
   "metadata": {},
   "outputs": [],
   "source": [
    "# Drop collection\n",
    "mydb.inventory.drop()"
   ]
  },
  {
   "cell_type": "markdown",
   "id": "c745ba96",
   "metadata": {},
   "source": [
    "# Functions to discuss\n",
    "* pymongo.collection.Collection.update_one()\n",
    "\n",
    "* pymongo.collection.Collection.update_many()\n",
    "\n",
    "* pymongo.collection.Collection.replace_one()"
   ]
  },
  {
   "cell_type": "code",
   "execution_count": 39,
   "id": "33647261",
   "metadata": {},
   "outputs": [],
   "source": [
    "inventory = mydb.inventory"
   ]
  },
  {
   "cell_type": "code",
   "execution_count": 40,
   "id": "0ba37ebf",
   "metadata": {},
   "outputs": [
    {
     "data": {
      "text/plain": [
       "InsertManyResult([ObjectId('661c439d398f60862913e791'), ObjectId('661c439d398f60862913e792'), ObjectId('661c439d398f60862913e793'), ObjectId('661c439d398f60862913e794'), ObjectId('661c439d398f60862913e795'), ObjectId('661c439d398f60862913e796'), ObjectId('661c439d398f60862913e797'), ObjectId('661c439d398f60862913e798'), ObjectId('661c439d398f60862913e799'), ObjectId('661c439d398f60862913e79a')], acknowledged=True)"
      ]
     },
     "execution_count": 40,
     "metadata": {},
     "output_type": "execute_result"
    }
   ],
   "source": [
    "inventory.insert_many([\n",
    "    {\"item\": \"canvas\",\n",
    "     \"qty\": 100,\n",
    "     \"size\": {\"h\": 28, \"w\": 35.5, \"uom\": \"cm\"},\n",
    "     \"status\": \"A\"},\n",
    "    {\"item\": \"journal\",\n",
    "     \"qty\": 25,\n",
    "     \"size\": {\"h\": 14, \"w\": 21, \"uom\": \"cm\"},\n",
    "     \"status\": \"A\"},\n",
    "    {\"item\": \"mat\",\n",
    "     \"qty\": 85,\n",
    "     \"size\": {\"h\": 27.9, \"w\": 35.5, \"uom\": \"cm\"},\n",
    "     \"status\": \"A\"},\n",
    "    {\"item\": \"mousepad\",\n",
    "     \"qty\": 25,\n",
    "     \"size\": {\"h\": 19, \"w\": 22.85, \"uom\": \"cm\"},\n",
    "     \"status\": \"P\"},\n",
    "    {\"item\": \"notebook\",\n",
    "     \"qty\": 50,\n",
    "     \"size\": {\"h\": 8.5, \"w\": 11, \"uom\": \"in\"},\n",
    "     \"status\": \"P\"},\n",
    "    {\"item\": \"paper\",\n",
    "     \"qty\": 100,\n",
    "     \"size\": {\"h\": 8.5, \"w\": 11, \"uom\": \"in\"},\n",
    "     \"status\": \"D\"},\n",
    "    {\"item\": \"planner\",\n",
    "     \"qty\": 75,\n",
    "     \"size\": {\"h\": 22.85, \"w\": 30, \"uom\": \"cm\"},\n",
    "     \"status\": \"D\"},\n",
    "    {\"item\": \"postcard\",\n",
    "     \"qty\": 45,\n",
    "     \"size\": {\"h\": 10, \"w\": 15.25, \"uom\": \"cm\"},\n",
    "     \"status\": \"A\"},\n",
    "    {\"item\": \"sketchbook\",\n",
    "     \"qty\": 80,\n",
    "     \"size\": {\"h\": 14, \"w\": 21, \"uom\": \"cm\"},\n",
    "     \"status\": \"A\"},\n",
    "    {\"item\": \"sketch pad\",\n",
    "     \"qty\": 95,\n",
    "     \"size\": {\"h\": 22.85, \"w\": 30.5, \"uom\": \"cm\"},\n",
    "     \"status\": \"A\"}\n",
    "])"
   ]
  },
  {
   "cell_type": "markdown",
   "id": "8b50a798",
   "metadata": {},
   "source": [
    "#### Update"
   ]
  },
  {
   "cell_type": "code",
   "execution_count": 44,
   "id": "cc6b192f",
   "metadata": {},
   "outputs": [
    {
     "data": {
      "text/plain": [
       "UpdateResult({'n': 1, 'nModified': 1, 'ok': 1.0, 'updatedExisting': True}, acknowledged=True)"
      ]
     },
     "execution_count": 44,
     "metadata": {},
     "output_type": "execute_result"
    }
   ],
   "source": [
    "inventory.update_one(\n",
    "{'item': 'sketch pad'},\n",
    "{'$set': {'size.uom': 'm', 'status': 'P'}, \n",
    " '$currentDate':{'lastmodified': True}}\n",
    ")"
   ]
  },
  {
   "cell_type": "code",
   "execution_count": 54,
   "id": "b7ce8a73",
   "metadata": {},
   "outputs": [
    {
     "data": {
      "text/plain": [
       "UpdateResult({'n': 3, 'nModified': 3, 'ok': 1.0, 'updatedExisting': True}, acknowledged=True)"
      ]
     },
     "execution_count": 54,
     "metadata": {},
     "output_type": "execute_result"
    }
   ],
   "source": [
    "inventory.update_many(\n",
    "    {'qty': {'$lt': 50}},\n",
    "    {'$set': {'size.uom': 'in', 'status': 'P'},\n",
    "    '$currentDate': {'lastmodified': True}})"
   ]
  },
  {
   "cell_type": "markdown",
   "id": "224f1b63",
   "metadata": {},
   "source": [
    "#### Replace"
   ]
  },
  {
   "cell_type": "code",
   "execution_count": 55,
   "id": "3e37b937",
   "metadata": {},
   "outputs": [
    {
     "data": {
      "text/plain": [
       "UpdateResult({'n': 1, 'nModified': 1, 'ok': 1.0, 'updatedExisting': True}, acknowledged=True)"
      ]
     },
     "execution_count": 55,
     "metadata": {},
     "output_type": "execute_result"
    }
   ],
   "source": [
    "inventory.replace_one(\n",
    "    {\"item\" : \"paper\"},\n",
    "    {\"item\" : \"paper\",\n",
    "    \"instock\":[\n",
    "        {\"warehouse\": \"A\", \"qty\": 60},\n",
    "        {\"warehouse\": \"B\", \"qty\": 40} \n",
    "    ]}\n",
    ")"
   ]
  },
  {
   "cell_type": "markdown",
   "id": "b5a1e284",
   "metadata": {},
   "source": [
    "### Aggregate and Group\n",
    "1. avg\n",
    "2. sum\n",
    "3. project"
   ]
  },
  {
   "cell_type": "code",
   "execution_count": null,
   "id": "bb7dbdbc",
   "metadata": {},
   "outputs": [],
   "source": []
  },
  {
   "cell_type": "code",
   "execution_count": null,
   "id": "8287fbde",
   "metadata": {},
   "outputs": [],
   "source": []
  },
  {
   "cell_type": "code",
   "execution_count": null,
   "id": "fbaca0da",
   "metadata": {},
   "outputs": [],
   "source": []
  },
  {
   "cell_type": "code",
   "execution_count": null,
   "id": "90b6b5da",
   "metadata": {},
   "outputs": [],
   "source": []
  },
  {
   "cell_type": "code",
   "execution_count": null,
   "id": "01acc3b8",
   "metadata": {},
   "outputs": [],
   "source": []
  },
  {
   "cell_type": "code",
   "execution_count": null,
   "id": "7883f9c7",
   "metadata": {},
   "outputs": [],
   "source": []
  }
 ],
 "metadata": {
  "kernelspec": {
   "display_name": "Python 3",
   "language": "python",
   "name": "python3"
  },
  "language_info": {
   "codemirror_mode": {
    "name": "ipython",
    "version": 3
   },
   "file_extension": ".py",
   "mimetype": "text/x-python",
   "name": "python",
   "nbconvert_exporter": "python",
   "pygments_lexer": "ipython3",
   "version": "3.8.5"
  }
 },
 "nbformat": 4,
 "nbformat_minor": 5
}
