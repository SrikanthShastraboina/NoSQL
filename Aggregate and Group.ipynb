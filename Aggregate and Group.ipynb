{
 "cells": [
  {
   "cell_type": "code",
   "execution_count": 5,
   "id": "f7c580ab",
   "metadata": {},
   "outputs": [],
   "source": [
    "from pymongo import MongoClient\n",
    "\n",
    "# Creating Object MongoClient\n",
    "client = MongoClient()\n",
    "\n",
    "# Connect MongoClient with portnumber and host\n",
    "client = MongoClient(\"mongodb://localhost:27017\")"
   ]
  },
  {
   "cell_type": "code",
   "execution_count": 6,
   "id": "a448d958",
   "metadata": {},
   "outputs": [
    {
     "data": {
      "text/plain": [
       "InsertManyResult([ObjectId('661c4fe97a14030c8aa25c89'), ObjectId('661c4fe97a14030c8aa25c8a'), ObjectId('661c4fe97a14030c8aa25c8b'), ObjectId('661c4fe97a14030c8aa25c8c'), ObjectId('661c4fe97a14030c8aa25c8d'), ObjectId('661c4fe97a14030c8aa25c8e')], acknowledged=True)"
      ]
     },
     "execution_count": 6,
     "metadata": {},
     "output_type": "execute_result"
    }
   ],
   "source": [
    "# Create a database\n",
    "mydatabase = client['Students']\n",
    "\n",
    "# creating collections in the database\n",
    "collection = mydatabase.studentscores # or\n",
    "# collection = mydatabase['studentscores'] # you can also write like this\n",
    "\n",
    "data = [ \n",
    "    {\"user\":\"Krish\", \"subject\":\"Database\", \"score\":80}, \n",
    "    {\"user\":\"Amit\",  \"subject\":\"JavaScript\", \"score\":90}, \n",
    "    {\"user\":\"Amit\",  \"title\":\"Database\", \"score\":85}, \n",
    "    {\"user\":\"Krish\",  \"title\":\"JavaScript\", \"score\":75}, \n",
    "    {\"user\":\"Amit\",  \"title\":\"Data Science\", \"score\":60},\n",
    "    {\"user\":\"Krish\",  \"title\":\"Data Science\", \"score\":95}] \n",
    "\n",
    "collection.insert_many(data)"
   ]
  },
  {
   "cell_type": "code",
   "execution_count": 55,
   "id": "dbd27510",
   "metadata": {},
   "outputs": [],
   "source": [
    "## Find out total subjects of Krish and Amith\n",
    "\n",
    "agg_result = collection.aggregate(\n",
    "    [{\"$group\": \n",
    "      {\"_id\": \"$user\", \"Total Subjects\": {\"$sum\": 1}}}]\n",
    ")"
   ]
  },
  {
   "cell_type": "code",
   "execution_count": 56,
   "id": "9bda1bfa",
   "metadata": {},
   "outputs": [
    {
     "name": "stdout",
     "output_type": "stream",
     "text": [
      "{'_id': 'Krish', 'Total Subjects': 3}\n",
      "{'_id': 'Amit', 'Total Subjects': 3}\n"
     ]
    }
   ],
   "source": [
    "for i in agg_result:\n",
    "    print(i)"
   ]
  },
  {
   "cell_type": "code",
   "execution_count": 57,
   "id": "1d4c09ca",
   "metadata": {},
   "outputs": [
    {
     "name": "stdout",
     "output_type": "stream",
     "text": [
      "{'_id': 'Krish', 'Total Score': 250}\n",
      "{'_id': 'Amit', 'Total Score': 235}\n"
     ]
    }
   ],
   "source": [
    "# Calculate the total score of each student\n",
    "\n",
    "agg_result = collection.aggregate(\n",
    "    [{\"$group\": {\"_id\": \"$user\", \"Total Score\": {\"$sum\": \"$score\"}}}]\n",
    ")\n",
    "\n",
    "for i in agg_result:\n",
    "    print(i)"
   ]
  },
  {
   "cell_type": "code",
   "execution_count": 61,
   "id": "14e1935e",
   "metadata": {},
   "outputs": [
    {
     "name": "stdout",
     "output_type": "stream",
     "text": [
      "{'_id': 'Krish', 'Avg score': 83.33333333333333}\n",
      "{'_id': 'Amit', 'Avg score': 78.33333333333333}\n"
     ]
    }
   ],
   "source": [
    "# Calculate the avg score of each student\n",
    "\n",
    "agg_result = collection.aggregate(\n",
    "    [{\"$group\": {'_id': \"$user\", \"Avg score\": {\"$avg\": \"$score\"}}}]\n",
    ")\n",
    "\n",
    "for i in agg_result:\n",
    "    print(i)"
   ]
  },
  {
   "cell_type": "code",
   "execution_count": 82,
   "id": "fd1b7543",
   "metadata": {},
   "outputs": [],
   "source": [
    "import datetime as datetime"
   ]
  },
  {
   "cell_type": "code",
   "execution_count": 83,
   "id": "2f6c1029",
   "metadata": {},
   "outputs": [],
   "source": [
    "### Create a new collection\n",
    "data=[{ \"_id\" : 1, \"item\" : \"abc\", \"price\" : 10, \"quantity\" : 2, \"date\" : datetime.datetime.utcnow()},\n",
    "{ \"_id\" : 2, \"item\" : \"jkl\", \"price\" : 20, \"quantity\" : 1, \"date\" : datetime.datetime.utcnow() },\n",
    "{ \"_id\" : 3, \"item\" : \"xyz\", \"price\" : 5, \"quantity\" : 5, \"date\" : datetime.datetime.utcnow() },\n",
    "{ \"_id\" : 4, \"item\" : \"abc\", \"price\" : 10, \"quantity\" : 10, \"date\" : datetime.datetime.utcnow() },\n",
    "{ \"_id\" : 5, \"item\" : \"xyz\", \"price\" : 5, \"quantity\" : 10, \"date\" :datetime.datetime.utcnow() }]"
   ]
  },
  {
   "cell_type": "code",
   "execution_count": 84,
   "id": "7fe6f984",
   "metadata": {},
   "outputs": [
    {
     "data": {
      "text/plain": [
       "[{'_id': 1,\n",
       "  'item': 'abc',\n",
       "  'price': 10,\n",
       "  'quantity': 2,\n",
       "  'date': datetime.datetime(2024, 4, 14, 22, 50, 27, 161216)},\n",
       " {'_id': 2,\n",
       "  'item': 'jkl',\n",
       "  'price': 20,\n",
       "  'quantity': 1,\n",
       "  'date': datetime.datetime(2024, 4, 14, 22, 50, 27, 161216)},\n",
       " {'_id': 3,\n",
       "  'item': 'xyz',\n",
       "  'price': 5,\n",
       "  'quantity': 5,\n",
       "  'date': datetime.datetime(2024, 4, 14, 22, 50, 27, 161216)},\n",
       " {'_id': 4,\n",
       "  'item': 'abc',\n",
       "  'price': 10,\n",
       "  'quantity': 10,\n",
       "  'date': datetime.datetime(2024, 4, 14, 22, 50, 27, 161216)},\n",
       " {'_id': 5,\n",
       "  'item': 'xyz',\n",
       "  'price': 5,\n",
       "  'quantity': 10,\n",
       "  'date': datetime.datetime(2024, 4, 14, 22, 50, 27, 161216)}]"
      ]
     },
     "execution_count": 84,
     "metadata": {},
     "output_type": "execute_result"
    }
   ],
   "source": [
    "data"
   ]
  },
  {
   "cell_type": "code",
   "execution_count": 85,
   "id": "d7876ed9",
   "metadata": {},
   "outputs": [
    {
     "data": {
      "text/plain": [
       "InsertManyResult([1, 2, 3, 4, 5], acknowledged=True)"
      ]
     },
     "execution_count": 85,
     "metadata": {},
     "output_type": "execute_result"
    }
   ],
   "source": [
    "mycollection = mydatabase['stores']\n",
    "mycollection.insert_many(data)"
   ]
  },
  {
   "cell_type": "code",
   "execution_count": 86,
   "id": "79dc143a",
   "metadata": {},
   "outputs": [
    {
     "name": "stdout",
     "output_type": "stream",
     "text": [
      "{'_id': 'abc', 'avgAmount': 60.0, 'avgQuantity': 6.0}\n",
      "{'_id': 'xyz', 'avgAmount': 37.5, 'avgQuantity': 7.5}\n",
      "{'_id': 'jkl', 'avgAmount': 20.0, 'avgQuantity': 1.0}\n"
     ]
    }
   ],
   "source": [
    "### Calculating the average quantity And Average Price\n",
    "agg_result=mycollection.aggregate([\n",
    "   {\n",
    "      \"$group\": {\n",
    "         \"_id\": '$item',\n",
    "         \"avgAmount\": {\"$avg\": {\"$multiply\": [ \"$price\", \"$quantity\" ]}},\n",
    "          \"avgQuantity\": { \"$avg\": \"$quantity\" }\n",
    "      }\n",
    "   }\n",
    "])\n",
    "for i in agg_result: \n",
    "    print(i)"
   ]
  },
  {
   "cell_type": "code",
   "execution_count": 88,
   "id": "e0e42d98",
   "metadata": {},
   "outputs": [],
   "source": [
    "#### $Project\n",
    "\n",
    "data=[{\n",
    "  \"_id\" : 1,\n",
    "  \"title\": \"abc123\",\n",
    "  \"isbn\": \"0001122223334\",\n",
    "  \"author\": { \"last\": \"zzz\", \"first\": \"aaa\" },\n",
    "  \"copies\": 5\n",
    "},\n",
    "{\n",
    "  \"_id\" : 2,\n",
    "  \"title\": \"Baked Goods\",\n",
    "  \"isbn\": \"9999999999999\",\n",
    "  \"author\": { \"last\": \"xyz\", \"first\": \"abc\", \"middle\": \"\" },\n",
    "  \"copies\": 2\n",
    "}\n",
    "]\n"
   ]
  },
  {
   "cell_type": "code",
   "execution_count": 90,
   "id": "dbab3bdd",
   "metadata": {},
   "outputs": [],
   "source": [
    "# Access collection of the database  \n",
    "collection=mydatabase['Books']  "
   ]
  },
  {
   "cell_type": "code",
   "execution_count": 91,
   "id": "2277b17f",
   "metadata": {},
   "outputs": [
    {
     "data": {
      "text/plain": [
       "InsertManyResult([1, 2], acknowledged=True)"
      ]
     },
     "execution_count": 91,
     "metadata": {},
     "output_type": "execute_result"
    }
   ],
   "source": [
    "collection.insert_many(data)"
   ]
  },
  {
   "cell_type": "code",
   "execution_count": 92,
   "id": "c082cc32",
   "metadata": {},
   "outputs": [
    {
     "name": "stdout",
     "output_type": "stream",
     "text": [
      "{'_id': 1, 'title': 'abc123', 'isbn': '0001122223334'}\n",
      "{'_id': 2, 'title': 'Baked Goods', 'isbn': '9999999999999'}\n"
     ]
    }
   ],
   "source": [
    "for row in collection.aggregate( [ { \"$project\": { \"title\": 1,\"isbn\":1 } } ] ):\n",
    "    print(row)"
   ]
  },
  {
   "cell_type": "code",
   "execution_count": null,
   "id": "6da657db",
   "metadata": {},
   "outputs": [],
   "source": []
  },
  {
   "cell_type": "code",
   "execution_count": null,
   "id": "a3b821c7",
   "metadata": {},
   "outputs": [],
   "source": []
  },
  {
   "cell_type": "code",
   "execution_count": null,
   "id": "cb77c598",
   "metadata": {},
   "outputs": [],
   "source": []
  },
  {
   "cell_type": "code",
   "execution_count": null,
   "id": "ec5c7e76",
   "metadata": {},
   "outputs": [],
   "source": []
  },
  {
   "cell_type": "code",
   "execution_count": null,
   "id": "61f162f4",
   "metadata": {},
   "outputs": [],
   "source": []
  },
  {
   "cell_type": "code",
   "execution_count": null,
   "id": "9a18161e",
   "metadata": {},
   "outputs": [],
   "source": []
  },
  {
   "cell_type": "code",
   "execution_count": null,
   "id": "f83e52a3",
   "metadata": {},
   "outputs": [],
   "source": []
  }
 ],
 "metadata": {
  "kernelspec": {
   "display_name": "Python 3",
   "language": "python",
   "name": "python3"
  },
  "language_info": {
   "codemirror_mode": {
    "name": "ipython",
    "version": 3
   },
   "file_extension": ".py",
   "mimetype": "text/x-python",
   "name": "python",
   "nbconvert_exporter": "python",
   "pygments_lexer": "ipython3",
   "version": "3.8.5"
  }
 },
 "nbformat": 4,
 "nbformat_minor": 5
}
